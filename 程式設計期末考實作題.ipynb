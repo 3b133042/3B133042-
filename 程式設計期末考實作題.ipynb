{
  "nbformat": 4,
  "nbformat_minor": 0,
  "metadata": {
    "colab": {
      "provenance": []
    },
    "kernelspec": {
      "name": "python3",
      "display_name": "Python 3"
    },
    "language_info": {
      "name": "python"
    }
  },
  "cells": [
    {
      "cell_type": "code",
      "source": [
        "import math\n",
        "\n",
        "class City:\n",
        "    def __init__(self, name, x, y, accommodation_cost):\n",
        "        self.name = name\n",
        "        self.x = x\n",
        "        self.y = y\n",
        "        self.accommodation_cost = accommodation_cost\n",
        "\n",
        "    def calculate_discounted_cost(self, previous_city):\n",
        "        if previous_city is None:\n",
        "            return self.accommodation_cost\n",
        "        else:\n",
        "            discount = 0.8 if previous_city.name in ['C', 'G'] and self.name == 'A' else 0.8 if previous_city.name in ['D', 'E'] and self.name == 'B' else 0.8 if previous_city.name in ['A', 'C'] and self.name == 'F' else 0.8 if previous_city.name in ['E', 'F'] and self.name == 'G' else 1.0\n",
        "            return self.accommodation_cost * discount\n",
        "\n",
        "    def calculate_distance(self, other_city):\n",
        "        return math.sqrt((self.x - other_city.x)**2 + (self.y - other_city.y)**2)\n",
        "\n",
        "\n",
        "def find_cheapest_travel_plan(start_city, cities):\n",
        "    current_city = start_city\n",
        "    travel_plan = [current_city]\n",
        "    total_cost = 0\n",
        "\n",
        "    while len(travel_plan) < len(cities):\n",
        "        remaining_cities = [city for city in cities if city not in travel_plan]\n",
        "        next_city = min(remaining_cities, key=lambda city: current_city.calculate_distance(city))\n",
        "        travel_distance = current_city.calculate_distance(next_city)\n",
        "        accommodation_cost = next_city.calculate_discounted_cost(current_city)\n",
        "        fuel_cost = travel_distance * 100  # Assuming fuel cost is 100 per kilometer\n",
        "\n",
        "        total_cost += fuel_cost + accommodation_cost\n",
        "        travel_plan.append(next_city)\n",
        "        current_city = next_city\n",
        "\n",
        "    return travel_plan, total_cost\n",
        "\n",
        "\n",
        "# Create city objects\n",
        "A = City('A', 0, 0, 2000)\n",
        "B = City('B', 0, 120, 2400)\n",
        "C = City('C', 30, 100, 2400)\n",
        "D = City('D', 80, 0, 1600)\n",
        "E = City('E', 45, 10, 1500)\n",
        "F = City('F', 90, 160, 2200)\n",
        "G = City('G', 120, 200, 1200)\n",
        "\n",
        "# Define the list of cities\n",
        "cities = [A, B, C, D, E, F, G]\n",
        "\n",
        "# Find the cheapest travel plan\n",
        "start_city = A  # Choose the starting city (A, B, C, D, E, F, G)\n",
        "travel_plan, total_cost = find_cheapest_travel_plan(start_city, cities)\n",
        "\n",
        "# Print the travel plan and total cost\n",
        "print(\"最便宜旅遊方案:\")\n",
        "for city in travel_plan:\n",
        "    print(city.name)\n",
        "print(\"總花費: {}元\".format(total_cost))\n"
      ],
      "metadata": {
        "colab": {
          "base_uri": "https://localhost:8080/"
        },
        "id": "ohhGYuKDIRn3",
        "outputId": "05bb242e-ddc4-423e-995b-3fa0ad44185b"
      },
      "execution_count": null,
      "outputs": [
        {
          "output_type": "stream",
          "name": "stdout",
          "text": [
            "最便宜旅遊方案:\n",
            "A\n",
            "E\n",
            "D\n",
            "C\n",
            "B\n",
            "F\n",
            "G\n",
            "總花費: 48944.57613804574元\n"
          ]
        }
      ]
    }
  ]
}